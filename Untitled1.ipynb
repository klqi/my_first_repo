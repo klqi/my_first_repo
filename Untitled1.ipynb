{
 "cells": [
  {
   "cell_type": "code",
   "execution_count": 7,
   "id": "f26c6402-6f2f-426d-bd2c-6987e2a34eba",
   "metadata": {
    "tags": []
   },
   "outputs": [
    {
     "data": {
      "text/plain": [
       "601253062.321441"
      ]
     },
     "execution_count": 7,
     "metadata": {},
     "output_type": "execute_result"
    }
   ],
   "source": [
    "from datetime import datetime\n",
    "\n",
    "# 09/27/2005\n",
    "# M/D/Y\n",
    "hiroki = \"09/27/2005\"\n",
    "hiroki_dt1 = datetime.strptime(hiroki, \"%m/%d/%Y\")\n",
    "\n",
    "# Y, M, D\n",
    "hiroki_dt2 = datetime(2005, 9, 27)\n",
    "\n",
    "## today's date\n",
    "today = datetime.now()\n",
    "\n",
    "# find time difference?\n",
    "time_diff = today - hiroki_dt2\n",
    "\n",
    "# in seconds\n",
    "time_diff.total_seconds()"
   ]
  }
 ],
 "metadata": {
  "kernelspec": {
   "display_name": "Python 3 (ipykernel)",
   "language": "python",
   "name": "python3"
  },
  "language_info": {
   "codemirror_mode": {
    "name": "ipython",
    "version": 3
   },
   "file_extension": ".py",
   "mimetype": "text/x-python",
   "name": "python",
   "nbconvert_exporter": "python",
   "pygments_lexer": "ipython3",
   "version": "3.10.10"
  }
 },
 "nbformat": 4,
 "nbformat_minor": 5
}
